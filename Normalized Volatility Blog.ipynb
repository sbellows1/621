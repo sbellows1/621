{
 "cells": [
  {
   "cell_type": "markdown",
   "metadata": {},
   "source": [
    "# Standardizing Financial Data by Recent Return and Volatility"
   ]
  },
  {
   "cell_type": "markdown",
   "metadata": {},
   "source": [
    "An interesting idea is to standardize the returns of financial markets by both the recent returns and recent volatility. Standardizing by recent returns will return lower values in strong uptrends and higher values in strong downtrends. Standardizing by recent volatility will return lower values in volatile markets and higher values in low volatility markets.\n",
    "We see the results of a simple test below.\n",
    "\n",
    "It is very possible to data mine around this by optimizing across the period parameter of the standardization as well as the holding period.\n",
    "\n",
    "Standardizing by volatility is very interesting as it gives perspective on how large a market move is in terms of recent ranges of the market. This can be useful in putting market data in perspective of the recent market structure."
   ]
  },
  {
   "cell_type": "code",
   "execution_count": 1,
   "metadata": {},
   "outputs": [],
   "source": [
    "import pandas as pd\n",
    "import matplotlib.pyplot as plt\n",
    "import numpy as np"
   ]
  },
  {
   "cell_type": "code",
   "execution_count": 2,
   "metadata": {},
   "outputs": [],
   "source": [
    "SPX = pd.read_csv(\"C:/Users/Sam/Desktop/Cleaned and Formatted Data/ES Rev Adj.csv\", delimiter = \",\", index_col = \"Date\", parse_dates = True)"
   ]
  },
  {
   "cell_type": "code",
   "execution_count": 3,
   "metadata": {},
   "outputs": [],
   "source": [
    "def standardize(series, period, series2):\n",
    "    return ((series - series.rolling(period).mean())/(series2.rolling(period).std()))\n",
    "\n",
    "# Create a Range and Return column, alongside a forward return of 1, 5, and 10 days for each day\n",
    "\n",
    "SPX['Range'] = SPX['High'] - SPX['Low']\n",
    "SPX['Return'] = SPX['Close']/SPX['Close'].shift(1)\n",
    "\n",
    "SPX['Forward Return 1D'] = SPX['Close'].shift(-1) - SPX['Close']\n",
    "SPX['Forward Return 5D'] = SPX['Close'].shift(-5) - SPX['Close']\n",
    "SPX['Forward Return 10D'] = SPX['Close'].shift(-10) - SPX['Close']"
   ]
  },
  {
   "cell_type": "markdown",
   "metadata": {},
   "source": [
    "Below we find the code to standardize the daily returns."
   ]
  },
  {
   "cell_type": "code",
   "execution_count": 4,
   "metadata": {},
   "outputs": [],
   "source": [
    "SPX['Return by Return'] = standardize(SPX['Return'], 20, SPX['Return'])\n",
    "SPX['Return by Vol'] = standardize(SPX['Return'], 20, SPX['High']/SPX['Low'])"
   ]
  },
  {
   "cell_type": "code",
   "execution_count": 5,
   "metadata": {},
   "outputs": [],
   "source": [
    "def Bucket_Returns(days, column, start, end):\n",
    "    df = SPX['Forward Return '+str(days)+'D'][((SPX[column] >= start) & (SPX[column] <= end))]\n",
    "    print(str(days) + ' Day Returns with '+column+' from '+str(start)+' to '+str(end)+' are:' +  \n",
    "          str(df.mean()) + ' with ' + str(df.shape[0]) + ' records')\n",
    "\n",
    "s2 = list(np.arange(-6, 6, 1))\n",
    "e2 = list(np.arange(-5, 7, 1))"
   ]
  },
  {
   "cell_type": "code",
   "execution_count": 6,
   "metadata": {},
   "outputs": [
    {
     "name": "stdout",
     "output_type": "stream",
     "text": [
      "5 Day Returns with Return by Return from -6 to -5 are:nan with 0 records\n",
      "5 Day Returns with Return by Return from -5 to -4 are:nan with 0 records\n",
      "5 Day Returns with Return by Return from -4 to -3 are:31.392857142857142 with 14 records\n",
      "5 Day Returns with Return by Return from -3 to -2 are:1.4613970588235294 with 136 records\n",
      "5 Day Returns with Return by Return from -2 to -1 are:4.016280752532562 with 691 records\n",
      "5 Day Returns with Return by Return from -1 to 0 are:2.4998439937597503 with 1926 records\n",
      "5 Day Returns with Return by Return from 0 to 1 are:0.2703888596952182 with 1904 records\n",
      "5 Day Returns with Return by Return from 1 to 2 are:0.3177004538577912 with 662 records\n",
      "5 Day Returns with Return by Return from 2 to 3 are:-0.765625 with 96 records\n",
      "5 Day Returns with Return by Return from 3 to 4 are:10.583333333333334 with 3 records\n",
      "5 Day Returns with Return by Return from 4 to 5 are:nan with 0 records\n",
      "5 Day Returns with Return by Return from 5 to 6 are:nan with 0 records\n"
     ]
    }
   ],
   "source": [
    "for i in range(len(s2)):\n",
    "    Bucket_Returns(5, 'Return by Return', round(s2[i]), round(e2[i]))"
   ]
  },
  {
   "cell_type": "markdown",
   "metadata": {},
   "source": [
    "Although rare, when returns are more than 3 standard deviations below the average of the past 20 days, this seems an incredible short term buying opportunity."
   ]
  },
  {
   "cell_type": "code",
   "execution_count": 7,
   "metadata": {},
   "outputs": [
    {
     "name": "stdout",
     "output_type": "stream",
     "text": [
      "5 Day Returns with Return by Vol from -6 to -5 are:17.113636363636363 with 11 records\n",
      "5 Day Returns with Return by Vol from -5 to -4 are:3.212121212121212 with 66 records\n",
      "5 Day Returns with Return by Vol from -4 to -3 are:5.244285714285715 with 175 records\n",
      "5 Day Returns with Return by Vol from -3 to -2 are:3.1392405063291138 with 395 records\n",
      "5 Day Returns with Return by Vol from -2 to -1 are:3.8092669432918393 with 725 records\n",
      "5 Day Returns with Return by Vol from -1 to 0 are:2.0865136298421807 with 1395 records\n",
      "5 Day Returns with Return by Vol from 0 to 1 are:0.1918474195961107 with 1337 records\n",
      "5 Day Returns with Return by Vol from 1 to 2 are:0.3458559782608695 with 737 records\n",
      "5 Day Returns with Return by Vol from 2 to 3 are:-0.7622739018087855 with 388 records\n",
      "5 Day Returns with Return by Vol from 3 to 4 are:3.875 with 146 records\n",
      "5 Day Returns with Return by Vol from 4 to 5 are:-6.808139534883721 with 43 records\n",
      "5 Day Returns with Return by Vol from 5 to 6 are:12.48076923076923 with 13 records\n"
     ]
    }
   ],
   "source": [
    "for i in range(len(s2)):\n",
    "    Bucket_Returns(5, 'Return by Vol', round(s2[i]), round(e2[i]))"
   ]
  },
  {
   "cell_type": "markdown",
   "metadata": {},
   "source": [
    "We see that when the market drops by more than 1 standard deviation of the range over the past 20 days it is usually a good short term buy. Also interesting is that there is no clear edge buying the market when it is up from this methodology."
   ]
  },
  {
   "cell_type": "code",
   "execution_count": null,
   "metadata": {},
   "outputs": [],
   "source": []
  }
 ],
 "metadata": {
  "kernelspec": {
   "display_name": "Python 3",
   "language": "python",
   "name": "python3"
  },
  "language_info": {
   "codemirror_mode": {
    "name": "ipython",
    "version": 3
   },
   "file_extension": ".py",
   "mimetype": "text/x-python",
   "name": "python",
   "nbconvert_exporter": "python",
   "pygments_lexer": "ipython3",
   "version": "3.7.3"
  }
 },
 "nbformat": 4,
 "nbformat_minor": 4
}
